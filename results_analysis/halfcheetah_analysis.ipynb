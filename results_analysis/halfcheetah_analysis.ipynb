{
 "cells": [
  {
   "cell_type": "markdown",
   "id": "cosmetic-buying",
   "metadata": {},
   "source": [
    "## Imports"
   ]
  },
  {
   "cell_type": "code",
   "execution_count": 164,
   "id": "unknown-switzerland",
   "metadata": {
    "ExecuteTime": {
     "end_time": "2021-02-09T02:29:07.009531Z",
     "start_time": "2021-02-09T02:29:06.992068Z"
    }
   },
   "outputs": [
    {
     "name": "stdout",
     "output_type": "stream",
     "text": [
      "/home/yangz2/rl_nju/d4rl_evaluations/results_analysis\n"
     ]
    }
   ],
   "source": [
    "import os\n",
    "import numpy as np\n",
    "import pandas as pd\n",
    "from pandas.plotting import table \n",
    "import seaborn as sns\n",
    "\n",
    "import matplotlib.pyplot as plt\n",
    "from matplotlib import ticker\n",
    "\n",
    "import gym\n",
    "import d4rl\n",
    "\n",
    "# https://stackoverflow.com/questions/25412513/inline-images-have-low-quality\n",
    "# %config InlineBackend.figure_format = 'svg'\n",
    "\n",
    "# Use better font for plotting\n",
    "# https://python4astronomers.github.io/plotting/publication.html#font-sizes\n",
    "from matplotlib import rc\n",
    "rc('font', family='serif')\n",
    "\n",
    "print(os.getcwd())"
   ]
  },
  {
   "cell_type": "code",
   "execution_count": 2,
   "id": "arctic-affiliation",
   "metadata": {
    "ExecuteTime": {
     "end_time": "2021-02-09T02:29:03.405600Z",
     "start_time": "2021-02-09T02:28:50.862Z"
    }
   },
   "outputs": [],
   "source": [
    "def listdir_nohidden(path):\n",
    "    for f in os.listdir(path):\n",
    "        if not f.startswith('.'):\n",
    "            yield f"
   ]
  },
  {
   "cell_type": "code",
   "execution_count": null,
   "id": "spanish-granny",
   "metadata": {},
   "outputs": [],
   "source": []
  },
  {
   "cell_type": "code",
   "execution_count": 116,
   "id": "intense-commitment",
   "metadata": {
    "ExecuteTime": {
     "end_time": "2021-02-09T02:29:03.407602Z",
     "start_time": "2021-02-09T02:28:51.588Z"
    }
   },
   "outputs": [],
   "source": [
    "class ResultReader:\n",
    "    \n",
    "    def __init__(self, eval_freq=5e3, num_grad_steps=5e5):\n",
    "\n",
    "        self.algo_to_result = {}\n",
    "        \n",
    "        base_dir = '../results'\n",
    "        \n",
    "        for algo in [fname for fname in listdir_nohidden(base_dir) if os.path.isdir(os.path.join(base_dir, fname))]:\n",
    "            algo_dir = os.path.join(base_dir, algo)\n",
    "            \n",
    "            task_to_trainCurveAvg = {}  # each such dict is called the \"result\" for the algorithm\n",
    "            \n",
    "            for task in [fname for fname in listdir_nohidden(algo_dir) if os.path.isdir(os.path.join(algo_dir, fname))]:\n",
    "                task_dir = os.path.join(algo_dir, task)\n",
    "                \n",
    "                trainCurveAccum = np.zeros((int(num_grad_steps // eval_freq), ))\n",
    "                num_seeds = 0\n",
    "                \n",
    "                for seed in [fname for fname in listdir_nohidden(task_dir) if os.path.isdir(os.path.join(task_dir, fname))]:\n",
    "                    if algo == 'BCQ':\n",
    "                        trainCurveAccum += np.array(np.load(os.path.join(task_dir, seed, 'progress.npy')))\n",
    "                    elif algo == 'BEAR' or algo == 'CQL':\n",
    "                        try:\n",
    "                            trainCurve = pd.read_csv(os.path.join(task_dir, seed, 'progress.csv'))['evaluation/Average Returns'].to_numpy()\n",
    "                            if len(trainCurve) == 100:\n",
    "                                trainCurveAccum += trainCurve\n",
    "                        except:\n",
    "                            print(\"An exception occurred\")\n",
    "                    elif algo == 'BC':\n",
    "                        try:\n",
    "                            with open(os.path.join(task_dir, seed, 'results.txt')) as txt_f:\n",
    "                                trainCurve = np.array([float(line.rstrip().rstrip(']').lstrip('[]')) for line in txt_f.readlines()])\n",
    "                            if len(trainCurve) == 100:\n",
    "                                trainCurveAccum += trainCurve\n",
    "                        except:\n",
    "                            print(\"An exception occurred\")\n",
    "                    num_seeds += 1\n",
    "                    \n",
    "                trainCurveAvg = trainCurveAccum / num_seeds\n",
    "                \n",
    "                task_to_trainCurveAvg[task] = trainCurveAvg\n",
    "                \n",
    "            self.algo_to_result[algo] = task_to_trainCurveAvg\n",
    "                \n",
    "        self.eval_freq = eval_freq\n",
    "        self.num_grad_steps = num_grad_steps\n",
    "                \n",
    "    @staticmethod\n",
    "    def exp_smoother(scores, alpha=0.9):\n",
    "        smoothed_scores = []\n",
    "        curr = scores[0]\n",
    "        for i, score in enumerate(scores):\n",
    "            smoothed_scores.append(curr)\n",
    "            curr = alpha * curr + (1 - alpha) * score\n",
    "        return smoothed_scores\n",
    "    \n",
    "    @property\n",
    "    def grad_steps(self):\n",
    "        return np.arange(int(self.num_grad_steps / self.eval_freq)) * self.eval_freq + self.eval_freq\n",
    "    \n",
    "    def plottable(self, algo_name, task_name):\n",
    "        if algo_name in self.algo_to_result.keys():\n",
    "            if task_name in self.algo_to_result[algo_name].keys():\n",
    "                return True\n",
    "            else:\n",
    "                return False\n",
    "        else:\n",
    "            return False\n",
    "                \n",
    "    def normalized_scores(self, algo_name:str, task_name:str) -> tuple:\n",
    "        raw_scores = self.algo_to_result[algo_name][task_name]\n",
    "        min_score = d4rl.infos.REF_MIN_SCORE[f'{task_name}']\n",
    "        max_score = d4rl.infos.REF_MAX_SCORE[f'{task_name}']\n",
    "        norm_scores = (raw_scores - min_score) / (max_score - min_score) * 100\n",
    "        return self.exp_smoother(norm_scores)"
   ]
  },
  {
   "cell_type": "code",
   "execution_count": 4,
   "id": "spare-craft",
   "metadata": {
    "ExecuteTime": {
     "end_time": "2021-02-09T02:29:03.411790Z",
     "start_time": "2021-02-09T02:28:53.088Z"
    }
   },
   "outputs": [],
   "source": [
    "d4rl_scores_csv_path = '/home/yangz2/rl_nju/offline-rl-notes/d4rl-paper-extractions/d4rl_table_2_gym_extracted.csv'\n",
    "cql_scores_csv_path = '/home/yangz2/rl_nju/offline-rl-notes/d4rl-paper-extractions/cql_table_1_extracted.csv'"
   ]
  },
  {
   "cell_type": "code",
   "execution_count": 5,
   "id": "signal-encyclopedia",
   "metadata": {},
   "outputs": [],
   "source": [
    "d4rl_scores = pd.read_csv(d4rl_scores_csv_path)\n",
    "d4rl_scores = d4rl_scores.set_index('task')\n",
    "d4rl_tasks = d4rl_scores.index.tolist()\n",
    "\n",
    "cql_scores = pd.read_csv(cql_scores_csv_path)\n",
    "cql_scores = cql_scores.set_index('task')\n",
    "cql_tasks = cql_scores.index.tolist()"
   ]
  },
  {
   "cell_type": "code",
   "execution_count": 124,
   "id": "standard-found",
   "metadata": {},
   "outputs": [],
   "source": [
    "algos = [\n",
    "    'BCQ',\n",
    "    'BEAR',\n",
    "    'CQL',\n",
    "    'BC'\n",
    "] "
   ]
  },
  {
   "cell_type": "code",
   "execution_count": 44,
   "id": "integrated-indicator",
   "metadata": {},
   "outputs": [],
   "source": [
    "tasks = [\n",
    "    'halfcheetah-random-v1', \n",
    "    'halfcheetah-medium-v1', \n",
    "    'halfcheetah-medium-replay-v1',\n",
    "    'halfcheetah-expert-v1', \n",
    "    'halfcheetah-medium-expert-v1',\n",
    "]"
   ]
  },
  {
   "cell_type": "code",
   "execution_count": 8,
   "id": "worthy-facial",
   "metadata": {},
   "outputs": [
    {
     "name": "stderr",
     "output_type": "stream",
     "text": [
      "/home/yangz2/miniconda3/envs/nju_rl_p37/lib/python3.7/site-packages/gym/logger.py:30: UserWarning: \u001b[33mWARN: Box bound precision lowered by casting to float32\u001b[0m\n",
      "  warnings.warn(colorize('%s: %s'%('WARN', msg % args), 'yellow'))\n"
     ]
    }
   ],
   "source": [
    "task_to_baseline = {}\n",
    "for task in tasks:\n",
    "    \n",
    "    min_score = d4rl.infos.REF_MIN_SCORE[f'{task}']\n",
    "    max_score = d4rl.infos.REF_MAX_SCORE[f'{task}']\n",
    "    \n",
    "    env = gym.make(task)\n",
    "    ds = env.get_dataset()\n",
    "    \n",
    "    per_traj_return = np.sum(ds['rewards']) / (np.sum(ds['terminals']) + np.sum(ds['timeouts']))\n",
    "    task_to_baseline[task] = (per_traj_return - min_score) / (max_score - min_score) * 100"
   ]
  },
  {
   "cell_type": "code",
   "execution_count": 11,
   "id": "olympic-airplane",
   "metadata": {},
   "outputs": [
    {
     "data": {
      "text/plain": [
       "{'halfcheetah-random-v1': -0.05345686739695595,\n",
       " 'halfcheetah-medium-v1': 40.49039866465467,\n",
       " 'halfcheetah-medium-replay-v1': 27.17209753098163,\n",
       " 'halfcheetah-expert-v1': 80.25291452276983,\n",
       " 'halfcheetah-medium-expert-v1': 60.371662634704506}"
      ]
     },
     "execution_count": 11,
     "metadata": {},
     "output_type": "execute_result"
    }
   ],
   "source": [
    "task_to_baseline"
   ]
  },
  {
   "cell_type": "code",
   "execution_count": 147,
   "id": "lesbian-harassment",
   "metadata": {},
   "outputs": [],
   "source": [
    "reproduce_df = pd.DataFrame(index=algos, columns=tasks)\n",
    "# reproduce_df = reproduce_df.fillna(0) # with 0s rather than NaNs"
   ]
  },
  {
   "cell_type": "code",
   "execution_count": 148,
   "id": "altered-disclaimer",
   "metadata": {},
   "outputs": [
    {
     "data": {
      "text/html": [
       "<div>\n",
       "<style scoped>\n",
       "    .dataframe tbody tr th:only-of-type {\n",
       "        vertical-align: middle;\n",
       "    }\n",
       "\n",
       "    .dataframe tbody tr th {\n",
       "        vertical-align: top;\n",
       "    }\n",
       "\n",
       "    .dataframe thead th {\n",
       "        text-align: right;\n",
       "    }\n",
       "</style>\n",
       "<table border=\"1\" class=\"dataframe\">\n",
       "  <thead>\n",
       "    <tr style=\"text-align: right;\">\n",
       "      <th></th>\n",
       "      <th>halfcheetah-random-v1</th>\n",
       "      <th>halfcheetah-medium-v1</th>\n",
       "      <th>halfcheetah-medium-replay-v1</th>\n",
       "      <th>halfcheetah-expert-v1</th>\n",
       "      <th>halfcheetah-medium-expert-v1</th>\n",
       "    </tr>\n",
       "  </thead>\n",
       "  <tbody>\n",
       "    <tr>\n",
       "      <th>BCQ</th>\n",
       "      <td>NaN</td>\n",
       "      <td>NaN</td>\n",
       "      <td>NaN</td>\n",
       "      <td>NaN</td>\n",
       "      <td>NaN</td>\n",
       "    </tr>\n",
       "    <tr>\n",
       "      <th>BEAR</th>\n",
       "      <td>NaN</td>\n",
       "      <td>NaN</td>\n",
       "      <td>NaN</td>\n",
       "      <td>NaN</td>\n",
       "      <td>NaN</td>\n",
       "    </tr>\n",
       "    <tr>\n",
       "      <th>CQL</th>\n",
       "      <td>NaN</td>\n",
       "      <td>NaN</td>\n",
       "      <td>NaN</td>\n",
       "      <td>NaN</td>\n",
       "      <td>NaN</td>\n",
       "    </tr>\n",
       "    <tr>\n",
       "      <th>BC</th>\n",
       "      <td>NaN</td>\n",
       "      <td>NaN</td>\n",
       "      <td>NaN</td>\n",
       "      <td>NaN</td>\n",
       "      <td>NaN</td>\n",
       "    </tr>\n",
       "  </tbody>\n",
       "</table>\n",
       "</div>"
      ],
      "text/plain": [
       "     halfcheetah-random-v1 halfcheetah-medium-v1 halfcheetah-medium-replay-v1  \\\n",
       "BCQ                    NaN                   NaN                          NaN   \n",
       "BEAR                   NaN                   NaN                          NaN   \n",
       "CQL                    NaN                   NaN                          NaN   \n",
       "BC                     NaN                   NaN                          NaN   \n",
       "\n",
       "     halfcheetah-expert-v1 halfcheetah-medium-expert-v1  \n",
       "BCQ                    NaN                          NaN  \n",
       "BEAR                   NaN                          NaN  \n",
       "CQL                    NaN                          NaN  \n",
       "BC                     NaN                          NaN  "
      ]
     },
     "execution_count": 148,
     "metadata": {},
     "output_type": "execute_result"
    }
   ],
   "source": [
    "reproduce_df.head()"
   ]
  },
  {
   "cell_type": "code",
   "execution_count": 132,
   "id": "biological-reality",
   "metadata": {},
   "outputs": [],
   "source": [
    "default_colors = plt.rcParams['axes.prop_cycle'].by_key()['color']"
   ]
  },
  {
   "cell_type": "code",
   "execution_count": 133,
   "id": "insured-diagnosis",
   "metadata": {},
   "outputs": [
    {
     "data": {
      "text/plain": [
       "['#1f77b4', '#ff7f0e', '#2ca02c', '#d62728']"
      ]
     },
     "execution_count": 133,
     "metadata": {},
     "output_type": "execute_result"
    }
   ],
   "source": [
    "default_colors[:4]"
   ]
  },
  {
   "cell_type": "code",
   "execution_count": 160,
   "id": "disturbed-engagement",
   "metadata": {
    "scrolled": true
   },
   "outputs": [
    {
     "data": {
      "image/png": "[encoded data removed]",
      "text/plain": [
       "<Figure size 1260x360 with 5 Axes>"
      ]
     },
     "metadata": {
      "needs_background": "light"
     },
     "output_type": "display_data"
    }
   ],
   "source": [
    "height = 5\n",
    "width = 3.5\n",
    "fig = plt.figure(figsize=(width * len(tasks), height))\n",
    "\n",
    "res = ResultReader()\n",
    "\n",
    "# colors = plt.cm.rainbow(np.linspace(0,1,len(algos)))\n",
    "colors_to_use = ['#1f77b4', '#2ca02c', '#ff7f0e', 'purple']\n",
    "\n",
    "for i, task_name in enumerate(tasks):\n",
    "\n",
    "    fig.add_subplot(int(f'1{len(tasks)}{i+1}'))\n",
    "    \n",
    "    plt.gca().spines['top'].set_visible(False)\n",
    "    plt.gca().spines['right'].set_visible(False)\n",
    "\n",
    "    for j, algo_name in enumerate(algos):\n",
    "        \n",
    "        if res.plottable(algo_name, task_name):\n",
    "            \n",
    "            if task_name[:-3] in d4rl_scores.index and algo_name in d4rl_scores.columns:\n",
    "                published_score = d4rl_scores.at[task_name[:-3], algo_name]\n",
    "#             elif task_name[:-3] in cql_scores.index and algo_name in cql_scores.columns:\n",
    "#                 published_score = cql_scores.at[task_name[:-3], algo_name]\n",
    "            else:\n",
    "                published_score = None\n",
    "\n",
    "            if published_score is not None:\n",
    "#                 plt.axhline(published_score, alpha=0.4, c=colors_to_use[j], label=f'{algo_name} (D4RL)')\n",
    "                reproduce_df.at[algo_name, task_name] = round(res.normalized_scores(algo_name, task_name)[-1] / published_score * 100, 1)\n",
    "                    \n",
    "            plt.plot(\n",
    "                res.grad_steps, res.normalized_scores(algo_name, task_name), \n",
    "                label=algo_name, \n",
    "                c=colors_to_use[j], \n",
    "                linewidth=1.5\n",
    "            )\n",
    "                \n",
    "    plt.axhline(task_to_baseline[task_name], c='black', linestyle='-.', linewidth=0.5, label='Batch')\n",
    "    \n",
    "    plt.title(task_name)\n",
    "    plt.xlabel('Grad Steps')\n",
    "    if i == 0:\n",
    "        plt.ylabel('Norm Eval Score')\n",
    "\n",
    "    plt.xlim(-0.05*max(res.grad_steps), max(res.grad_steps)+0.05*max(res.grad_steps))\n",
    "    plt.xticks(np.linspace(0, max(res.grad_steps), 6))\n",
    "    formatter = ticker.ScalarFormatter(useMathText=True)\n",
    "    formatter.set_scientific(True) \n",
    "    formatter.set_powerlimits((-1,1)) \n",
    "    plt.gca().xaxis.set_major_formatter(formatter) \n",
    "\n",
    "    if 'expert' in task_name:\n",
    "        plt.ylim(-5, 100+5)\n",
    "        plt.yticks(np.linspace(0, 100, 11))\n",
    "    elif 'medium' in task_name:\n",
    "        plt.ylim(-2.5, 50+2.5)\n",
    "        plt.yticks(np.linspace(0, 50, 6))\n",
    "    elif 'random' in task_name:\n",
    "        plt.ylim(-40*0.05, 40*1.05)\n",
    "        plt.yticks(np.linspace(0, 40, 5))\n",
    "    \n",
    "handles, labels = plt.gca().get_legend_handles_labels()\n",
    "fig.legend(handles, labels, loc='lower center', ncol=len(algos)+1, bbox_to_anchor=(0.5, -0.1))\n",
    "plt.tight_layout()\n",
    "plt.savefig('halfcheetah-v1-trainCurves.svg', bbox_inches = 'tight', pad_inches = 0.1)"
   ]
  },
  {
   "cell_type": "code",
   "execution_count": 161,
   "id": "decent-serum",
   "metadata": {},
   "outputs": [
    {
     "data": {
      "text/html": [
       "<div>\n",
       "<style scoped>\n",
       "    .dataframe tbody tr th:only-of-type {\n",
       "        vertical-align: middle;\n",
       "    }\n",
       "\n",
       "    .dataframe tbody tr th {\n",
       "        vertical-align: top;\n",
       "    }\n",
       "\n",
       "    .dataframe thead th {\n",
       "        text-align: right;\n",
       "    }\n",
       "</style>\n",
       "<table border=\"1\" class=\"dataframe\">\n",
       "  <thead>\n",
       "    <tr style=\"text-align: right;\">\n",
       "      <th></th>\n",
       "      <th>halfcheetah-random-v1</th>\n",
       "      <th>halfcheetah-medium-v1</th>\n",
       "      <th>halfcheetah-medium-replay-v1</th>\n",
       "      <th>halfcheetah-expert-v1</th>\n",
       "      <th>halfcheetah-medium-expert-v1</th>\n",
       "    </tr>\n",
       "  </thead>\n",
       "  <tbody>\n",
       "    <tr>\n",
       "      <th>BCQ</th>\n",
       "      <td>102.3</td>\n",
       "      <td>113.8</td>\n",
       "      <td>111.1</td>\n",
       "      <td>NaN</td>\n",
       "      <td>119.5</td>\n",
       "    </tr>\n",
       "    <tr>\n",
       "      <th>BEAR</th>\n",
       "      <td>9.0</td>\n",
       "      <td>102.7</td>\n",
       "      <td>95.3</td>\n",
       "      <td>NaN</td>\n",
       "      <td>89.0</td>\n",
       "    </tr>\n",
       "    <tr>\n",
       "      <th>CQL</th>\n",
       "      <td>80.6</td>\n",
       "      <td>109.5</td>\n",
       "      <td>103.0</td>\n",
       "      <td>NaN</td>\n",
       "      <td>131.7</td>\n",
       "    </tr>\n",
       "    <tr>\n",
       "      <th>BC</th>\n",
       "      <td>107.2</td>\n",
       "      <td>118.2</td>\n",
       "      <td>97.7</td>\n",
       "      <td>NaN</td>\n",
       "      <td>137.2</td>\n",
       "    </tr>\n",
       "  </tbody>\n",
       "</table>\n",
       "</div>"
      ],
      "text/plain": [
       "     halfcheetah-random-v1 halfcheetah-medium-v1 halfcheetah-medium-replay-v1  \\\n",
       "BCQ                  102.3                 113.8                        111.1   \n",
       "BEAR                   9.0                 102.7                         95.3   \n",
       "CQL                   80.6                 109.5                        103.0   \n",
       "BC                   107.2                 118.2                         97.7   \n",
       "\n",
       "     halfcheetah-expert-v1 halfcheetah-medium-expert-v1  \n",
       "BCQ                    NaN                        119.5  \n",
       "BEAR                   NaN                         89.0  \n",
       "CQL                    NaN                        131.7  \n",
       "BC                     NaN                        137.2  "
      ]
     },
     "execution_count": 161,
     "metadata": {},
     "output_type": "execute_result"
    }
   ],
   "source": [
    "reproduce_df "
   ]
  },
  {
   "cell_type": "code",
   "execution_count": 178,
   "id": "advised-statement",
   "metadata": {},
   "outputs": [
    {
     "data": {
      "image/png": "[encoded data removed]",
      "text/plain": [
       "<Figure size 720x144 with 1 Axes>"
      ]
     },
     "metadata": {
      "needs_background": "light"
     },
     "output_type": "display_data"
    }
   ],
   "source": [
    "fig = plt.figure(figsize=(10, 2))\n",
    "fig.add_subplot(111, frame_on=False)\n",
    "\n",
    "# ax = plt.subplot(111, ) # no visible frame\n",
    "plt.gca().xaxis.set_visible(False)  # hide the x axis\n",
    "plt.gca().yaxis.set_visible(False)  # hide the y axis\n",
    "\n",
    "table(plt.gca(), reproduce_df, loc='center')  # where df is your data frame\n",
    "\n",
    "plt.savefig('reproduced_divide_by_claimed_percentage.png', dpi=300, bbox_inches='tight', pad_inches=0)"
   ]
  },
  {
   "cell_type": "code",
   "execution_count": null,
   "id": "immune-chocolate",
   "metadata": {},
   "outputs": [],
   "source": []
  }
 ],
 "metadata": {
  "kernelspec": {
   "display_name": "Python 3",
   "language": "python",
   "name": "python3"
  },
  "language_info": {
   "codemirror_mode": {
    "name": "ipython",
    "version": 3
   },
   "file_extension": ".py",
   "mimetype": "text/x-python",
   "name": "python",
   "nbconvert_exporter": "python",
   "pygments_lexer": "ipython3",
   "version": "3.7.10"
  },
  "toc": {
   "base_numbering": 1,
   "nav_menu": {},
   "number_sections": false,
   "sideBar": true,
   "skip_h1_title": false,
   "title_cell": "Table of Contents",
   "title_sidebar": "Contents",
   "toc_cell": false,
   "toc_position": {
    "height": "calc(100% - 180px)",
    "left": "10px",
    "top": "150px",
    "width": "165px"
   },
   "toc_section_display": true,
   "toc_window_display": true
  },
  "varInspector": {
   "cols": {
    "lenName": 16,
    "lenType": 16,
    "lenVar": 40
   },
   "kernels_config": {
    "python": {
     "delete_cmd_postfix": "",
     "delete_cmd_prefix": "del ",
     "library": "var_list.py",
     "varRefreshCmd": "print(var_dic_list())"
    },
    "r": {
     "delete_cmd_postfix": ") ",
     "delete_cmd_prefix": "rm(",
     "library": "var_list.r",
     "varRefreshCmd": "cat(var_dic_list()) "
    }
   },
   "types_to_exclude": [
    "module",
    "function",
    "builtin_function_or_method",
    "instance",
    "_Feature"
   ],
   "window_display": false
  }
 },
 "nbformat": 4,
 "nbformat_minor": 5
}
